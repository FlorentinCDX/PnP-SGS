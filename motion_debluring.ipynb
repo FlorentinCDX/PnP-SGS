{
 "cells": [
  {
   "cell_type": "code",
   "execution_count": 1,
   "metadata": {},
   "outputs": [],
   "source": [
    "import torch\n",
    "import torchvision.transforms as transforms\n",
    "import matplotlib.pyplot as plt\n",
    "\n",
    "import numpy as np\n",
    "import cv2\n",
    "\n",
    "from guided_diffusion.unet import create_model\n",
    "from guided_diffusion.gaussian_diffusion import create_sampler, get_named_beta_schedule\n",
    "from util.img_utils import clear_color\n",
    "from tasks.motion_blur import MotionBlurCircular\n",
    "from tqdm import tqdm\n",
    "\n",
    "# Device setting\n",
    "device_str = f\"cuda:{0}\" if torch.cuda.is_available() else 'cpu'\n",
    "device = torch.device(device_str)  "
   ]
  },
  {
   "cell_type": "code",
   "execution_count": 2,
   "metadata": {},
   "outputs": [],
   "source": [
    "# Load model\n",
    "model = create_model(\n",
    "    image_size= 256,\n",
    "    num_channels= 128,\n",
    "    num_res_blocks= 1,\n",
    "    channel_mult= '',\n",
    "    learn_sigma= True,\n",
    "    class_cond= False,\n",
    "    use_checkpoint= False,\n",
    "    attention_resolutions= \"16\",\n",
    "    num_heads= 4,\n",
    "    num_head_channels= 64,\n",
    "    num_heads_upsample= -1,\n",
    "    use_scale_shift_norm= True,\n",
    "    dropout= 0.0,\n",
    "    resblock_updown= True,\n",
    "    use_fp16= False,\n",
    "    use_new_attention_order= False,\n",
    "    model_path= 'models/ffhq_10m.pt')\n",
    "\n",
    "model = model.to(device)\n",
    "model.eval()\n",
    "\n",
    "# Load diffusion sampler\n",
    "sampler = create_sampler(\n",
    "    sampler= 'ddpm',\n",
    "    steps= 1000,\n",
    "    noise_schedule= 'linear',\n",
    "    model_mean_type= 'epsilon',\n",
    "    model_var_type= 'learned_range',\n",
    "    dynamic_threshold= False,\n",
    "    clip_denoised= True,\n",
    "    rescale_timesteps= False)"
   ]
  },
  {
   "cell_type": "code",
   "execution_count": 3,
   "metadata": {},
   "outputs": [],
   "source": [
    "img_path = '00001'\n",
    "\n",
    "#load original image\n",
    "X_full = cv2.imread('data/samples_ffhq/'+img_path+'.png')\n",
    "X_full = cv2.resize(X_full, dsize=(256, 256), interpolation=cv2.INTER_CUBIC)\n",
    "X_full = cv2.cvtColor(X_full, cv2.COLOR_BGR2RGB)\n",
    "X0 = X_full[:,:,0]\n",
    "X1 = X_full[:,:,1]\n",
    "X2 = X_full[:,:,2]\n",
    "N = X1.shape\n",
    "N_full = X_full.shape\n",
    "\n",
    "#set BSNR\n",
    "BSNR = 60 # SNR expressed in decibels\n",
    "P_signal = X_full.var() # signal power\n",
    "sigma = np.sqrt((P_signal/10**(BSNR/10))) # standard deviation of the noise"
   ]
  },
  {
   "cell_type": "code",
   "execution_count": 4,
   "metadata": {},
   "outputs": [],
   "source": [
    "transform = transforms.Compose([transforms.ToTensor(),\n",
    "                                    transforms.Normalize((0.5, 0.5, 0.5), (0.5, 0.5, 0.5))])\n",
    "\n",
    "operator = MotionBlurCircular(kernel_size= 61, intensity= 0.5, channels= 3, img_dim= 256, device=device)"
   ]
  },
  {
   "cell_type": "code",
   "execution_count": 5,
   "metadata": {},
   "outputs": [],
   "source": [
    "X = transform(X_full).to(device)\n",
    "N = X.shape\n",
    "Y = operator.forward(X) + sigma*torch.randn(X.shape).to(device)"
   ]
  },
  {
   "cell_type": "code",
   "execution_count": null,
   "metadata": {},
   "outputs": [],
   "source": [
    "fig, axes = plt.subplots(1, 3, figsize=(20, 20))\n",
    "\n",
    "axes[0].imshow(clear_color(X))\n",
    "axes[0].set_title('True image')\n",
    "axes[0].axis('off');\n",
    "\n",
    "axes[1].imshow(clear_color(Y))\n",
    "axes[1].set_title('Noisy image')\n",
    "axes[1].axis('off');\n",
    "\n",
    "Z = torch.randn(N, device=device)\n",
    "X_rec = operator.proximal_generator(Z, Y, sigma, rho=0.1)\n",
    "\n",
    "axes[2].imshow(clear_color(X_rec));\n",
    "axes[2].set_title('First likelihood step')\n",
    "axes[2].axis('off');"
   ]
  },
  {
   "cell_type": "code",
   "execution_count": 8,
   "metadata": {},
   "outputs": [],
   "source": [
    "betas = get_named_beta_schedule('linear', 1000)\n",
    "alphas = np.cumsum(betas) / max(np.cumsum(betas))\n",
    "\n",
    "def estimate_time(value, array=alphas):\n",
    "    array = np.asarray(array)\n",
    "    idx = (np.abs(array - value)).argmin()\n",
    "    return idx"
   ]
  },
  {
   "cell_type": "code",
   "execution_count": 9,
   "metadata": {},
   "outputs": [],
   "source": [
    "def compute_last_diff_step(t_start, N_bi):\n",
    "    if t < N_bi:\n",
    "        t_stop = int(t_start* 0.7)\n",
    "    else:\n",
    "        t_stop = 0\n",
    "    return t_stop"
   ]
  },
  {
   "cell_type": "code",
   "execution_count": 10,
   "metadata": {},
   "outputs": [
    {
     "name": "stderr",
     "output_type": "stream",
     "text": [
      "100%|██████████| 23/23 [00:44<00:00,  1.94s/it]\n"
     ]
    }
   ],
   "source": [
    "N_MC = 23\n",
    "N_bi = 20\n",
    "rho = 0.1\n",
    "rho_decay_rate = 0.8\n",
    "\n",
    "# Initialization\n",
    "# define matrices to store the iterates\n",
    "X_MC = torch.zeros(size = (3, N[1],N[2],N_MC+1), device=device)\n",
    "Z_MC = torch.zeros(size = (3, N[1],N[2],N_MC+1), device=device)\n",
    "# initialize the latter matrices\n",
    "X_MC[:,:,:,0] = torch.randn(N, device=device)\n",
    "Z_MC[:,:,:,0] = torch.randn(N, device=device)\n",
    "\n",
    "# Gibbs sampling\n",
    "for t in tqdm(range(N_MC)):\n",
    "    # likelihood step\n",
    "    X_MC[:,:,:,t+1] = operator.proximal_generator(Z_MC[:,:,:,t], Y, sigma, rho=rho)\n",
    "    \n",
    "    #est_sigma = estimate_noise(clear_color(X_MC[:,:,:,t+1]))\n",
    "    rho_iter = rho * (rho_decay_rate**t)\n",
    "    t_start = estimate_time(rho_iter)\n",
    "    t_stop = compute_last_diff_step(t_start, N_bi)\n",
    "        \n",
    "    # prior step\n",
    "    Z_MC[:,:,:,t+1] = sampler.diffuse_back(x=X_MC[:,:,:,t+1].unsqueeze(0), model=model, t_start=1000 - t_start, t_end=1000-t_stop).squeeze(0)"
   ]
  },
  {
   "cell_type": "code",
   "execution_count": null,
   "metadata": {},
   "outputs": [],
   "source": [
    "fig, axes = plt.subplots(1, 4, figsize=(20, 20))\n",
    "\n",
    "axes[0].imshow(clear_color(X))\n",
    "axes[0].set_title('True image')\n",
    "axes[0].axis('off');\n",
    "\n",
    "axes[1].imshow(clear_color(Y))\n",
    "axes[1].set_title('Noisy image')\n",
    "axes[1].axis('off');\n",
    "\n",
    "axes[2].imshow(clear_color(torch.mean(Z_MC[:,:,:,N_bi:N_MC], axis=-1)));\n",
    "axes[2].set_title('Z Reconstructed image')\n",
    "axes[2].axis('off');\n",
    "\n",
    "axes[3].imshow(clear_color(torch.mean(X_MC[:,:,:,N_bi:N_MC], axis=-1)));\n",
    "axes[3].set_title('X Reconstructed image')\n",
    "axes[3].axis('off');"
   ]
  },
  {
   "cell_type": "code",
   "execution_count": null,
   "metadata": {},
   "outputs": [],
   "source": [
    "for i in range(N_MC):\n",
    "    fig, axes = plt.subplots(1, 2, figsize=(20, 20))\n",
    "    axes[0].imshow(clear_color(Z_MC[:,:,:,i]));\n",
    "    axes[1].imshow(clear_color(X_MC[:,:,:,i]));\n",
    "    plt.show();"
   ]
  },
  {
   "cell_type": "code",
   "execution_count": null,
   "metadata": {},
   "outputs": [],
   "source": []
  }
 ],
 "metadata": {
  "kernelspec": {
   "display_name": "Python 3 (ipykernel)",
   "language": "python",
   "name": "python3"
  },
  "language_info": {
   "codemirror_mode": {
    "name": "ipython",
    "version": 3
   },
   "file_extension": ".py",
   "mimetype": "text/x-python",
   "name": "python",
   "nbconvert_exporter": "python",
   "pygments_lexer": "ipython3",
   "version": "3.10.12"
  },
  "vscode": {
   "interpreter": {
    "hash": "ccba4c4b2c0a848e3abfecc6fe3e4c3af17b61f427b3b96280f41940cecf4be3"
   }
  }
 },
 "nbformat": 4,
 "nbformat_minor": 4
}
